{
  "nbformat": 4,
  "nbformat_minor": 0,
  "metadata": {
    "colab": {
      "provenance": [],
      "include_colab_link": true
    },
    "kernelspec": {
      "name": "python3",
      "display_name": "Python 3"
    },
    "language_info": {
      "name": "python"
    }
  },
  "cells": [
    {
      "cell_type": "markdown",
      "metadata": {
        "id": "view-in-github",
        "colab_type": "text"
      },
      "source": [
        "<a href=\"https://colab.research.google.com/github/mkaramb/QuantDevProjectSpring2023/blob/main/QuantDevProject.ipynb\" target=\"_parent\"><img src=\"https://colab.research.google.com/assets/colab-badge.svg\" alt=\"Open In Colab\"/></a>"
      ]
    },
    {
      "cell_type": "code",
      "source": [
        "import pandas as pd\n",
        "import numpy as np\n",
        "!pip3 install alpaca-trade-api \n",
        "     "
      ],
      "metadata": {
        "id": "H3zaNzHXUGyc",
        "outputId": "a61fb8cc-2310-4296-9242-ec2f2003a9e7",
        "colab": {
          "base_uri": "https://localhost:8080/"
        }
      },
      "execution_count": 2,
      "outputs": [
        {
          "output_type": "stream",
          "name": "stdout",
          "text": [
            "Looking in indexes: https://pypi.org/simple, https://us-python.pkg.dev/colab-wheels/public/simple/\n",
            "Requirement already satisfied: alpaca-trade-api in /usr/local/lib/python3.9/dist-packages (3.0.0)\n",
            "Requirement already satisfied: msgpack==1.0.3 in /usr/local/lib/python3.9/dist-packages (from alpaca-trade-api) (1.0.3)\n",
            "Requirement already satisfied: websocket-client<2,>=0.56.0 in /usr/local/lib/python3.9/dist-packages (from alpaca-trade-api) (1.5.1)\n",
            "Requirement already satisfied: numpy>=1.11.1 in /usr/local/lib/python3.9/dist-packages (from alpaca-trade-api) (1.22.4)\n",
            "Requirement already satisfied: PyYAML==6.0 in /usr/local/lib/python3.9/dist-packages (from alpaca-trade-api) (6.0)\n",
            "Requirement already satisfied: deprecation==2.1.0 in /usr/local/lib/python3.9/dist-packages (from alpaca-trade-api) (2.1.0)\n",
            "Requirement already satisfied: pandas>=0.18.1 in /usr/local/lib/python3.9/dist-packages (from alpaca-trade-api) (1.4.4)\n",
            "Requirement already satisfied: websockets<11,>=9.0 in /usr/local/lib/python3.9/dist-packages (from alpaca-trade-api) (10.4)\n",
            "Requirement already satisfied: urllib3<2,>1.24 in /usr/local/lib/python3.9/dist-packages (from alpaca-trade-api) (1.26.14)\n",
            "Requirement already satisfied: requests<3,>2 in /usr/local/lib/python3.9/dist-packages (from alpaca-trade-api) (2.25.1)\n",
            "Requirement already satisfied: aiohttp==3.8.1 in /usr/local/lib/python3.9/dist-packages (from alpaca-trade-api) (3.8.1)\n",
            "Requirement already satisfied: async-timeout<5.0,>=4.0.0a3 in /usr/local/lib/python3.9/dist-packages (from aiohttp==3.8.1->alpaca-trade-api) (4.0.2)\n",
            "Requirement already satisfied: charset-normalizer<3.0,>=2.0 in /usr/local/lib/python3.9/dist-packages (from aiohttp==3.8.1->alpaca-trade-api) (2.1.1)\n",
            "Requirement already satisfied: aiosignal>=1.1.2 in /usr/local/lib/python3.9/dist-packages (from aiohttp==3.8.1->alpaca-trade-api) (1.3.1)\n",
            "Requirement already satisfied: attrs>=17.3.0 in /usr/local/lib/python3.9/dist-packages (from aiohttp==3.8.1->alpaca-trade-api) (22.2.0)\n",
            "Requirement already satisfied: frozenlist>=1.1.1 in /usr/local/lib/python3.9/dist-packages (from aiohttp==3.8.1->alpaca-trade-api) (1.3.3)\n",
            "Requirement already satisfied: yarl<2.0,>=1.0 in /usr/local/lib/python3.9/dist-packages (from aiohttp==3.8.1->alpaca-trade-api) (1.8.2)\n",
            "Requirement already satisfied: multidict<7.0,>=4.5 in /usr/local/lib/python3.9/dist-packages (from aiohttp==3.8.1->alpaca-trade-api) (6.0.4)\n",
            "Requirement already satisfied: packaging in /usr/local/lib/python3.9/dist-packages (from deprecation==2.1.0->alpaca-trade-api) (23.0)\n",
            "Requirement already satisfied: pytz>=2020.1 in /usr/local/lib/python3.9/dist-packages (from pandas>=0.18.1->alpaca-trade-api) (2022.7.1)\n",
            "Requirement already satisfied: python-dateutil>=2.8.1 in /usr/local/lib/python3.9/dist-packages (from pandas>=0.18.1->alpaca-trade-api) (2.8.2)\n",
            "Requirement already satisfied: chardet<5,>=3.0.2 in /usr/local/lib/python3.9/dist-packages (from requests<3,>2->alpaca-trade-api) (4.0.0)\n",
            "Requirement already satisfied: idna<3,>=2.5 in /usr/local/lib/python3.9/dist-packages (from requests<3,>2->alpaca-trade-api) (2.10)\n",
            "Requirement already satisfied: certifi>=2017.4.17 in /usr/local/lib/python3.9/dist-packages (from requests<3,>2->alpaca-trade-api) (2022.12.7)\n",
            "Requirement already satisfied: six>=1.5 in /usr/local/lib/python3.9/dist-packages (from python-dateutil>=2.8.1->pandas>=0.18.1->alpaca-trade-api) (1.15.0)\n"
          ]
        }
      ]
    },
    {
      "cell_type": "code",
      "execution_count": null,
      "metadata": {
        "colab": {
          "base_uri": "https://localhost:8080/"
        },
        "id": "KL2c2pSxRRQM",
        "outputId": "5e5c1cf2-2107-4193-9ca5-a6045240f684"
      },
      "outputs": [
        {
          "output_type": "stream",
          "name": "stdout",
          "text": [
            "hi\n",
            "hello\n"
          ]
        }
      ],
      "source": [
        "print('hi')\n",
        "\n",
        "print(\"hello\")"
      ]
    },
    {
      "cell_type": "code",
      "source": [],
      "metadata": {
        "id": "V2Ox8KCNR_yj"
      },
      "execution_count": null,
      "outputs": []
    }
  ]
}